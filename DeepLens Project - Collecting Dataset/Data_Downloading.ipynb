{
 "cells": [
  {
   "cell_type": "code",
   "execution_count": 1,
   "metadata": {},
   "outputs": [],
   "source": [
    "import os\n",
    "import boto3"
   ]
  },
  {
   "cell_type": "code",
   "execution_count": 100,
   "metadata": {},
   "outputs": [],
   "source": [
    "# Defining const values.\n",
    "accessKeyID = os.environ[\"AWS_ACCESS_KEY_ID\"]\n",
    "secretAccessKey = os.environ[\"AWS_SECRET_ACCESS_KEY\"]\n",
    "s3BucketName = \"dmanwill-project-dataset\"\n",
    "\n",
    "# Change for every run:\n",
    "Save_Directory = \"C:\\School\\EECS 605\\Project\\Data\\Extra\""
   ]
  },
  {
   "cell_type": "code",
   "execution_count": 3,
   "metadata": {},
   "outputs": [],
   "source": [
    "client = boto3.client('s3', aws_access_key_id=accessKeyID, aws_secret_access_key=secretAccessKey)"
   ]
  },
  {
   "cell_type": "code",
   "execution_count": 101,
   "metadata": {},
   "outputs": [],
   "source": [
    "for i in range(500):\n",
    "    FileName = f\"image{i}.jpg\"\n",
    "    FilePath = os.path.join(Save_Directory, FileName)\n",
    "    client.download_file(s3BucketName, FileName, FilePath)\n",
    "    client.delete_object(Bucket=s3BucketName, Key = FileName)"
   ]
  },
  {
   "cell_type": "markdown",
   "metadata": {},
   "source": [
    "## For moving images into proper folders after separating based on classification"
   ]
  },
  {
   "cell_type": "code",
   "execution_count": 102,
   "metadata": {},
   "outputs": [],
   "source": [
    "arr = os.listdir(\"C:\\School\\EECS 605\\Project\\Data\\Ones\")\n",
    "for i in range(len(arr)):\n",
    "    if arr[i][-1] == 'g':\n",
    "        os.rename(os.path.join(\"C:\\School\\EECS 605\\Project\\Data\\Ones\", arr[i]), \n",
    "                  os.path.join(\"C:\\School\\EECS 605\\Project\\Data\\Ones\\Right\", f\"image{i+253}.jpg\"))"
   ]
  },
  {
   "cell_type": "code",
   "execution_count": 103,
   "metadata": {},
   "outputs": [],
   "source": [
    "arr = os.listdir(\"C:\\School\\EECS 605\\Project\\Data\\Twos\")\n",
    "for i in range(len(arr)):\n",
    "    if arr[i][-1] == 'g':\n",
    "        os.rename(os.path.join(\"C:\\School\\EECS 605\\Project\\Data\\Twos\", arr[i]), \n",
    "                  os.path.join(\"C:\\School\\EECS 605\\Project\\Data\\Twos\\Right\", f\"image{i+257}.jpg\"))"
   ]
  },
  {
   "cell_type": "code",
   "execution_count": 104,
   "metadata": {},
   "outputs": [],
   "source": [
    "arr = os.listdir(\"C:\\School\\EECS 605\\Project\\Data\\Threes\")\n",
    "for i in range(len(arr)):\n",
    "    if arr[i][-1] == 'g':\n",
    "        os.rename(os.path.join(\"C:\\School\\EECS 605\\Project\\Data\\Threes\", arr[i]), \n",
    "                  os.path.join(\"C:\\School\\EECS 605\\Project\\Data\\Threes\\Right\", f\"image{i+265}.jpg\"))"
   ]
  },
  {
   "cell_type": "code",
   "execution_count": 105,
   "metadata": {},
   "outputs": [],
   "source": [
    "arr = os.listdir(\"C:\\School\\EECS 605\\Project\\Data\\Fours\")\n",
    "for i in range(len(arr)):\n",
    "    if arr[i][-1] == 'g':\n",
    "        os.rename(os.path.join(\"C:\\School\\EECS 605\\Project\\Data\\Fours\", arr[i]), \n",
    "                  os.path.join(\"C:\\School\\EECS 605\\Project\\Data\\Fours\\Right\", f\"image{i+261}.jpg\"))"
   ]
  },
  {
   "cell_type": "code",
   "execution_count": 106,
   "metadata": {},
   "outputs": [],
   "source": [
    "arr = os.listdir(\"C:\\School\\EECS 605\\Project\\Data\\Fives\")\n",
    "for i in range(len(arr)):\n",
    "    if arr[i][-1] == 'g':\n",
    "        os.rename(os.path.join(\"C:\\School\\EECS 605\\Project\\Data\\Fives\", arr[i]), \n",
    "                  os.path.join(\"C:\\School\\EECS 605\\Project\\Data\\Fives\\Right\", f\"image{i+250}.jpg\"))"
   ]
  }
 ],
 "metadata": {
  "kernelspec": {
   "display_name": "Python 3",
   "language": "python",
   "name": "python3"
  },
  "language_info": {
   "codemirror_mode": {
    "name": "ipython",
    "version": 3
   },
   "file_extension": ".py",
   "mimetype": "text/x-python",
   "name": "python",
   "nbconvert_exporter": "python",
   "pygments_lexer": "ipython3",
   "version": "3.7.7"
  }
 },
 "nbformat": 4,
 "nbformat_minor": 4
}
