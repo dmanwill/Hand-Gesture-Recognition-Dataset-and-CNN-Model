{
 "cells": [
  {
   "cell_type": "code",
   "execution_count": 1,
   "metadata": {},
   "outputs": [
    {
     "data": {
      "application/vnd.jupyter.widget-view+json": {
       "model_id": "7be3430b6eeb47988a8e8c2ea9a11e48",
       "version_major": 2,
       "version_minor": 0
      },
      "text/plain": [
       "FileUpload(value={}, description='Upload')"
      ]
     },
     "metadata": {},
     "output_type": "display_data"
    },
    {
     "data": {
      "application/vnd.jupyter.widget-view+json": {
       "model_id": "3e7c9129efc84660924c50c485dcbe9a",
       "version_major": 2,
       "version_minor": 0
      },
      "text/plain": [
       "Image(value=b'\\xff\\xd8\\xff\\xe0\\x00\\x14JFIF\\x00\\x01\\x01\\x01\\x01,\\x01,\\x00\\x00AMPF\\xff\\xe1&\\xf7Exif\\x00\\x00MM\\x0…"
      ]
     },
     "metadata": {},
     "output_type": "display_data"
    },
    {
     "data": {
      "application/vnd.jupyter.widget-view+json": {
       "model_id": "852ddc225c9644db971151a1e7464b3d",
       "version_major": 2,
       "version_minor": 0
      },
      "text/plain": [
       "FloatSlider(value=0.0, max=1.0)"
      ]
     },
     "metadata": {},
     "output_type": "display_data"
    },
    {
     "data": {
      "application/vnd.jupyter.widget-view+json": {
       "model_id": "80673cbc0d474ba8b5e375bc743052c9",
       "version_major": 2,
       "version_minor": 0
      },
      "text/plain": [
       "Button(description='Upload to AWS', style=ButtonStyle())"
      ]
     },
     "metadata": {},
     "output_type": "display_data"
    },
    {
     "name": "stdout",
     "output_type": "stream",
     "text": [
      "Upload Successful\n",
      "AWS Processing...\n",
      "waiting for result\n",
      "waiting for result\n",
      "waiting for result\n",
      "waiting for result\n",
      "waiting for result\n",
      "waiting for result\n",
      "waiting for result\n",
      "Predicted: \"2\"  Probability: 0.511440\n"
     ]
    },
    {
     "data": {
      "application/vnd.jupyter.widget-view+json": {
       "model_id": "987393e53ed843ca922c65339b1918d4",
       "version_major": 2,
       "version_minor": 0
      },
      "text/plain": [
       "Image(value=b'\\xff\\xd8\\xff\\xe0\\x00\\x14JFIF\\x00\\x01\\x01\\x01\\x01,\\x01,\\x00\\x00AMPF\\xff\\xe1&\\xf7Exif\\x00\\x00MM\\x0…"
      ]
     },
     "metadata": {},
     "output_type": "display_data"
    }
   ],
   "source": [
    "import project\n",
    "%matplotlib inline\n",
    "project.createDashBoard()"
   ]
  },
  {
   "cell_type": "code",
   "execution_count": null,
   "metadata": {},
   "outputs": [],
   "source": []
  }
 ],
 "metadata": {
  "kernelspec": {
   "display_name": "Python 3",
   "language": "python",
   "name": "python3"
  },
  "language_info": {
   "codemirror_mode": {
    "name": "ipython",
    "version": 3
   },
   "file_extension": ".py",
   "mimetype": "text/x-python",
   "name": "python",
   "nbconvert_exporter": "python",
   "pygments_lexer": "ipython3",
   "version": "3.7.7"
  }
 },
 "nbformat": 4,
 "nbformat_minor": 4
}
